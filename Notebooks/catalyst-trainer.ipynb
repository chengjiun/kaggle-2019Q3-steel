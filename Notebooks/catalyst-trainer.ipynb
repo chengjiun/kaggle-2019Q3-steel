{
 "cells": [
  {
   "cell_type": "markdown",
   "metadata": {},
   "source": [
    "![MLComp](https://raw.githubusercontent.com/catalyst-team/catalyst-pics/master/pics/MLcomp.png)\n",
    "![Catalyst](https://raw.githubusercontent.com/catalyst-team/catalyst-pics/master/pics/catalyst_logo.png)"
   ]
  },
  {
   "cell_type": "markdown",
   "metadata": {},
   "source": [
    "### Plan:\n",
    "\n",
    "1. Basic setup and short discussion about MLComp and Catalyst libraries\n",
    "\n",
    "2. MLComp and Catalyst short tutorial\n",
    "\n",
    "3. Severstal DAG execution. Due to Kaggle kernels limit, we will not train final models here. You should train them yourself locally. (the code is the same). All you need to do is to remove extra params from ```mlcomp dag``` command\n",
    "\n",
    "Or you can download them https://www.kaggle.com/lightforever/severstalmodels\n",
    "\n",
    "4. You can find inference here https://www.kaggle.com/lightforever/severstal-mlcomp-catalyst-infer-0-90672\n",
    "\n",
    "**An ensemble of the segmentation models with a postprocessing gives 0.90672 on LB. If you add the classifier from Heng CherKeng's [thread](https://www.kaggle.com/c/severstal-steel-defect-detection/discussion/106462#latest-634450)**, you should get 0.9117 on LB**"
   ]
  },
  {
   "cell_type": "markdown",
   "metadata": {},
   "source": [
    "## Basic setup\n",
    "\n",
    "[MLComp](https://github.com/catalyst-team/mlcomp) is a distributed DAG (Directed acyclic graph) framework for machine learning with UI. It helps to train, manipulate, and visualize.\n",
    "\n",
    "Every machine learning pipeline is a Directed acyclic graph. [MLComp](https://github.com/catalyst-team/mlcomp) helps to execute it in a parallel manner, see the results via Web UI and manipulate the process easily.\n",
    "\n",
    "https://github.com/catalyst-team/mlcomp\n",
    "\n",
    "[Catalyst](https://github.com/catalyst-team/catalyst) helps to train neural networks. It helps to get good positions in the competitions.\n",
    "\n",
    "For an example, [yu4u and the others have finished at the 4th place using Catalyst](https://www.kaggle.com/c/recursion-cellular-image-classification/discussion/110337#latest-635296)\n",
    "\n",
    "https://github.com/catalyst-team/catalyst"
   ]
  },
  {
   "cell_type": "markdown",
   "metadata": {},
   "source": [
    "Install MLComp library. It already has Catalyst in the dependencies"
   ]
  },
  {
   "cell_type": "code",
   "execution_count": 1,
   "metadata": {
    "ExecuteTime": {
     "end_time": "2019-09-30T05:28:48.040829Z",
     "start_time": "2019-09-30T05:28:48.034923Z"
    }
   },
   "outputs": [
    {
     "name": "stdout",
     "output_type": "stream",
     "text": [
      "/home/chengjiun/Workspace/kaggle-2019Q3-steel\n"
     ]
    }
   ],
   "source": [
    "%cd ~/Workspace/kaggle-2019Q3-steel/"
   ]
  },
  {
   "cell_type": "code",
   "execution_count": 24,
   "metadata": {
    "ExecuteTime": {
     "end_time": "2019-09-30T08:31:10.420339Z",
     "start_time": "2019-09-30T08:31:08.523865Z"
    },
    "_cell_guid": "79c7e3d0-c299-4dcb-8224-4455121ee9b0",
    "_kg_hide-input": false,
    "_kg_hide-output": true,
    "_uuid": "d629ff2d2480ee46fbb7e2d37f6b5fab8052498a"
   },
   "outputs": [
    {
     "name": "stdout",
     "output_type": "stream",
     "text": [
      "Requirement already satisfied: mlcomp in /home/chengjiun/Softwares/anaconda3/envs/tensorflow/lib/python3.6/site-packages (19.9.3)\n",
      "Requirement already satisfied: sqlalchemy-serializer==1.3.1 in /home/chengjiun/Softwares/anaconda3/envs/tensorflow/lib/python3.6/site-packages (from mlcomp) (1.3.1)\n",
      "Requirement already satisfied: flask>=1.0.2 in /home/chengjiun/Softwares/anaconda3/envs/tensorflow/lib/python3.6/site-packages (from mlcomp) (1.1.1)\n",
      "Requirement already satisfied: sqlalchemy>=1.3.4 in /home/chengjiun/Softwares/anaconda3/envs/tensorflow/lib/python3.6/site-packages (from mlcomp) (1.3.8)\n",
      "Requirement already satisfied: PyYAML>=5.1 in /home/chengjiun/Softwares/anaconda3/envs/tensorflow/lib/python3.6/site-packages (from mlcomp) (5.1)\n",
      "Requirement already satisfied: cython in /home/chengjiun/Softwares/anaconda3/envs/tensorflow/lib/python3.6/site-packages (from mlcomp) (0.29.13)\n",
      "Requirement already satisfied: scipy>=1.3.0 in /home/chengjiun/Softwares/anaconda3/envs/tensorflow/lib/python3.6/site-packages (from mlcomp) (1.3.1)\n",
      "Requirement already satisfied: albumentations>=0.2.3 in /home/chengjiun/Softwares/anaconda3/envs/tensorflow/lib/python3.6/site-packages (from mlcomp) (0.3.1)\n",
      "Requirement already satisfied: kaggle>=1.5.3 in /home/chengjiun/Softwares/anaconda3/envs/tensorflow/lib/python3.6/site-packages (from mlcomp) (1.5.4)\n",
      "Requirement already satisfied: pytest-xdist>=1.29.0 in /home/chengjiun/Softwares/anaconda3/envs/tensorflow/lib/python3.6/site-packages (from mlcomp) (1.29.0)\n",
      "Requirement already satisfied: networkx>=2.2 in /home/chengjiun/Softwares/anaconda3/envs/tensorflow/lib/python3.6/site-packages (from mlcomp) (2.3)\n",
      "Requirement already satisfied: psycopg2-binary>=2.8.2 in /home/chengjiun/Softwares/anaconda3/envs/tensorflow/lib/python3.6/site-packages (from mlcomp) (2.8.3)\n",
      "Requirement already satisfied: GPUtil==1.4.0 in /home/chengjiun/Softwares/anaconda3/envs/tensorflow/lib/python3.6/site-packages (from mlcomp) (1.4.0)\n",
      "Requirement already satisfied: psutil>=5.6.2 in /home/chengjiun/Softwares/anaconda3/envs/tensorflow/lib/python3.6/site-packages (from mlcomp) (5.6.3)\n",
      "Requirement already satisfied: requests in /home/chengjiun/Softwares/anaconda3/envs/tensorflow/lib/python3.6/site-packages (from mlcomp) (2.22.0)\n",
      "Requirement already satisfied: scikit-learn>=0.21.2 in /home/chengjiun/Softwares/anaconda3/envs/tensorflow/lib/python3.6/site-packages (from mlcomp) (0.21.2)\n",
      "Requirement already satisfied: redis in /home/chengjiun/Softwares/anaconda3/envs/tensorflow/lib/python3.6/site-packages (from mlcomp) (3.3.8)\n",
      "Requirement already satisfied: click>=7.0 in /home/chengjiun/Softwares/anaconda3/envs/tensorflow/lib/python3.6/site-packages (from mlcomp) (7.0)\n",
      "Requirement already satisfied: catalyst==19.9.3 in /home/chengjiun/Softwares/anaconda3/envs/tensorflow/lib/python3.6/site-packages (from mlcomp) (19.9.3)\n",
      "Requirement already satisfied: jupyter in /home/chengjiun/Softwares/anaconda3/envs/tensorflow/lib/python3.6/site-packages (from mlcomp) (1.0.0)\n",
      "Requirement already satisfied: tiffile in /home/chengjiun/Softwares/anaconda3/envs/tensorflow/lib/python3.6/site-packages (from mlcomp) (2018.10.18)\n",
      "Requirement already satisfied: pathspec>=0.5.9 in /home/chengjiun/Softwares/anaconda3/envs/tensorflow/lib/python3.6/site-packages (from mlcomp) (0.6.0.dev1)\n",
      "Requirement already satisfied: apscheduler>=3.6.0 in /home/chengjiun/Softwares/anaconda3/envs/tensorflow/lib/python3.6/site-packages (from mlcomp) (3.6.1)\n",
      "Requirement already satisfied: flask-cors>=3.0.6 in /home/chengjiun/Softwares/anaconda3/envs/tensorflow/lib/python3.6/site-packages (from mlcomp) (3.0.8)\n",
      "Requirement already satisfied: pytest>=5.0.1 in /home/chengjiun/Softwares/anaconda3/envs/tensorflow/lib/python3.6/site-packages (from mlcomp) (5.0.1)\n",
      "Requirement already satisfied: celery>=4.3.0 in /home/chengjiun/Softwares/anaconda3/envs/tensorflow/lib/python3.6/site-packages (from mlcomp) (4.3.0)\n",
      "Requirement already satisfied: supervisor>=4.0.4 in /home/chengjiun/Softwares/anaconda3/envs/tensorflow/lib/python3.6/site-packages (from mlcomp) (4.0.4)\n",
      "Requirement already satisfied: setuptools>=41.0.1 in /home/chengjiun/Softwares/anaconda3/envs/tensorflow/lib/python3.6/site-packages (from mlcomp) (41.0.1)\n",
      "Requirement already satisfied: sqlalchemy-migrate>=0.12.0 in /home/chengjiun/Softwares/anaconda3/envs/tensorflow/lib/python3.6/site-packages (from mlcomp) (0.12.0)\n",
      "Requirement already satisfied: pretrainedmodels>=0.7.4 in /home/chengjiun/Softwares/anaconda3/envs/tensorflow/lib/python3.6/site-packages (from mlcomp) (0.7.4)\n",
      "Requirement already satisfied: Werkzeug>=0.15 in /home/chengjiun/Softwares/anaconda3/envs/tensorflow/lib/python3.6/site-packages (from flask>=1.0.2->mlcomp) (0.15.5)\n",
      "Requirement already satisfied: Jinja2>=2.10.1 in /home/chengjiun/Softwares/anaconda3/envs/tensorflow/lib/python3.6/site-packages (from flask>=1.0.2->mlcomp) (2.10.1)\n",
      "Requirement already satisfied: itsdangerous>=0.24 in /home/chengjiun/Softwares/anaconda3/envs/tensorflow/lib/python3.6/site-packages (from flask>=1.0.2->mlcomp) (1.1.0)\n",
      "Requirement already satisfied: numpy>=1.11.1 in /home/chengjiun/Softwares/anaconda3/envs/tensorflow/lib/python3.6/site-packages (from albumentations>=0.2.3->mlcomp) (1.16.4)\n",
      "Requirement already satisfied: opencv-python-headless in /home/chengjiun/Softwares/anaconda3/envs/tensorflow/lib/python3.6/site-packages (from albumentations>=0.2.3->mlcomp) (4.1.1.26)\n",
      "Requirement already satisfied: imgaug<0.2.7,>=0.2.5 in /home/chengjiun/Softwares/anaconda3/envs/tensorflow/lib/python3.6/site-packages (from albumentations>=0.2.3->mlcomp) (0.2.6)\n",
      "Requirement already satisfied: six>=1.10 in /home/chengjiun/Softwares/anaconda3/envs/tensorflow/lib/python3.6/site-packages (from kaggle>=1.5.3->mlcomp) (1.12.0)\n",
      "Requirement already satisfied: tqdm in /home/chengjiun/Softwares/anaconda3/envs/tensorflow/lib/python3.6/site-packages (from kaggle>=1.5.3->mlcomp) (4.34.0)\n",
      "Requirement already satisfied: python-slugify in /home/chengjiun/Softwares/anaconda3/envs/tensorflow/lib/python3.6/site-packages (from kaggle>=1.5.3->mlcomp) (3.0.3)\n",
      "Requirement already satisfied: python-dateutil in /home/chengjiun/Softwares/anaconda3/envs/tensorflow/lib/python3.6/site-packages (from kaggle>=1.5.3->mlcomp) (2.8.0)\n",
      "Requirement already satisfied: urllib3<1.25,>=1.21.1 in /home/chengjiun/Softwares/anaconda3/envs/tensorflow/lib/python3.6/site-packages (from kaggle>=1.5.3->mlcomp) (1.24.2)\n",
      "Requirement already satisfied: certifi in /home/chengjiun/Softwares/anaconda3/envs/tensorflow/lib/python3.6/site-packages (from kaggle>=1.5.3->mlcomp) (2019.9.11)\n",
      "Requirement already satisfied: pytest-forked in /home/chengjiun/Softwares/anaconda3/envs/tensorflow/lib/python3.6/site-packages (from pytest-xdist>=1.29.0->mlcomp) (1.0.2)\n",
      "Requirement already satisfied: execnet>=1.1 in /home/chengjiun/Softwares/anaconda3/envs/tensorflow/lib/python3.6/site-packages (from pytest-xdist>=1.29.0->mlcomp) (1.7.1)\n",
      "Requirement already satisfied: decorator>=4.3.0 in /home/chengjiun/Softwares/anaconda3/envs/tensorflow/lib/python3.6/site-packages (from networkx>=2.2->mlcomp) (4.4.0)\n",
      "Requirement already satisfied: chardet<3.1.0,>=3.0.2 in /home/chengjiun/Softwares/anaconda3/envs/tensorflow/lib/python3.6/site-packages (from requests->mlcomp) (3.0.4)\n",
      "Requirement already satisfied: idna<2.9,>=2.5 in /home/chengjiun/Softwares/anaconda3/envs/tensorflow/lib/python3.6/site-packages (from requests->mlcomp) (2.8)\n",
      "Requirement already satisfied: joblib>=0.11 in /home/chengjiun/Softwares/anaconda3/envs/tensorflow/lib/python3.6/site-packages (from scikit-learn>=0.21.2->mlcomp) (0.13.2)\n",
      "Requirement already satisfied: scikit-image>=0.14.2 in /home/chengjiun/Softwares/anaconda3/envs/tensorflow/lib/python3.6/site-packages (from catalyst==19.9.3->mlcomp) (0.15.0)\n",
      "Requirement already satisfied: seaborn in /home/chengjiun/Softwares/anaconda3/envs/tensorflow/lib/python3.6/site-packages (from catalyst==19.9.3->mlcomp) (0.9.0)\n",
      "Requirement already satisfied: imageio in /home/chengjiun/Softwares/anaconda3/envs/tensorflow/lib/python3.6/site-packages (from catalyst==19.9.3->mlcomp) (2.5.0)\n",
      "Requirement already satisfied: opencv-python in /home/chengjiun/Softwares/anaconda3/envs/tensorflow/lib/python3.6/site-packages (from catalyst==19.9.3->mlcomp) (4.1.0.25)\n",
      "Requirement already satisfied: plotly>=4.1.0 in /home/chengjiun/Softwares/anaconda3/envs/tensorflow/lib/python3.6/site-packages (from catalyst==19.9.3->mlcomp) (4.1.1)\n",
      "Requirement already satisfied: tensorboardX>=1.8 in /home/chengjiun/Softwares/anaconda3/envs/tensorflow/lib/python3.6/site-packages (from catalyst==19.9.3->mlcomp) (1.8)\n",
      "Requirement already satisfied: torchvision>=0.2.1 in /home/chengjiun/Softwares/anaconda3/envs/tensorflow/lib/python3.6/site-packages (from catalyst==19.9.3->mlcomp) (0.4.0a0+6b959ee)\n",
      "Requirement already satisfied: crc32c>=1.7 in /home/chengjiun/Softwares/anaconda3/envs/tensorflow/lib/python3.6/site-packages (from catalyst==19.9.3->mlcomp) (1.7)\n",
      "Requirement already satisfied: torch>=0.4.1 in /home/chengjiun/Softwares/anaconda3/envs/tensorflow/lib/python3.6/site-packages (from catalyst==19.9.3->mlcomp) (1.2.0)\n",
      "Requirement already satisfied: safitty>=1.2.3 in /home/chengjiun/Softwares/anaconda3/envs/tensorflow/lib/python3.6/site-packages (from catalyst==19.9.3->mlcomp) (1.2.3)\n",
      "Requirement already satisfied: matplotlib in /home/chengjiun/Softwares/anaconda3/envs/tensorflow/lib/python3.6/site-packages (from catalyst==19.9.3->mlcomp) (3.1.0)\n",
      "Requirement already satisfied: pandas>=0.22 in /home/chengjiun/Softwares/anaconda3/envs/tensorflow/lib/python3.6/site-packages (from catalyst==19.9.3->mlcomp) (0.25.0)\n",
      "Requirement already satisfied: ipywidgets in /home/chengjiun/Softwares/anaconda3/envs/tensorflow/lib/python3.6/site-packages (from jupyter->mlcomp) (7.5.1)\n",
      "Requirement already satisfied: nbconvert in /home/chengjiun/Softwares/anaconda3/envs/tensorflow/lib/python3.6/site-packages (from jupyter->mlcomp) (5.5.0)\n"
     ]
    },
    {
     "name": "stdout",
     "output_type": "stream",
     "text": [
      "Requirement already satisfied: jupyter-console in /home/chengjiun/Softwares/anaconda3/envs/tensorflow/lib/python3.6/site-packages (from jupyter->mlcomp) (6.0.0)\n",
      "Requirement already satisfied: notebook in /home/chengjiun/Softwares/anaconda3/envs/tensorflow/lib/python3.6/site-packages (from jupyter->mlcomp) (5.7.8)\n",
      "Requirement already satisfied: ipykernel in /home/chengjiun/Softwares/anaconda3/envs/tensorflow/lib/python3.6/site-packages (from jupyter->mlcomp) (5.1.2)\n",
      "Requirement already satisfied: qtconsole in /home/chengjiun/Softwares/anaconda3/envs/tensorflow/lib/python3.6/site-packages (from jupyter->mlcomp) (4.5.4)\n",
      "Requirement already satisfied: tifffile in /home/chengjiun/Softwares/anaconda3/envs/tensorflow/lib/python3.6/site-packages (from tiffile->mlcomp) (2019.7.26)\n",
      "Requirement already satisfied: pytz in /home/chengjiun/Softwares/anaconda3/envs/tensorflow/lib/python3.6/site-packages (from apscheduler>=3.6.0->mlcomp) (2019.2)\n",
      "Requirement already satisfied: tzlocal>=1.2 in /home/chengjiun/Softwares/anaconda3/envs/tensorflow/lib/python3.6/site-packages (from apscheduler>=3.6.0->mlcomp) (2.0.0)\n",
      "Requirement already satisfied: py>=1.5.0 in /home/chengjiun/Softwares/anaconda3/envs/tensorflow/lib/python3.6/site-packages (from pytest>=5.0.1->mlcomp) (1.8.0)\n",
      "Requirement already satisfied: packaging in /home/chengjiun/Softwares/anaconda3/envs/tensorflow/lib/python3.6/site-packages (from pytest>=5.0.1->mlcomp) (19.1)\n",
      "Requirement already satisfied: attrs>=17.4.0 in /home/chengjiun/Softwares/anaconda3/envs/tensorflow/lib/python3.6/site-packages (from pytest>=5.0.1->mlcomp) (19.1.0)\n",
      "Requirement already satisfied: more-itertools>=4.0.0 in /home/chengjiun/Softwares/anaconda3/envs/tensorflow/lib/python3.6/site-packages (from pytest>=5.0.1->mlcomp) (7.2.0)\n",
      "Requirement already satisfied: atomicwrites>=1.0 in /home/chengjiun/Softwares/anaconda3/envs/tensorflow/lib/python3.6/site-packages (from pytest>=5.0.1->mlcomp) (1.3.0)\n",
      "Requirement already satisfied: pluggy<1.0,>=0.12 in /home/chengjiun/Softwares/anaconda3/envs/tensorflow/lib/python3.6/site-packages (from pytest>=5.0.1->mlcomp) (0.12.0)\n",
      "Requirement already satisfied: importlib-metadata>=0.12 in /home/chengjiun/Softwares/anaconda3/envs/tensorflow/lib/python3.6/site-packages (from pytest>=5.0.1->mlcomp) (0.19)\n",
      "Requirement already satisfied: wcwidth in /home/chengjiun/Softwares/anaconda3/envs/tensorflow/lib/python3.6/site-packages (from pytest>=5.0.1->mlcomp) (0.1.7)\n",
      "Requirement already satisfied: vine>=1.3.0 in /home/chengjiun/Softwares/anaconda3/envs/tensorflow/lib/python3.6/site-packages (from celery>=4.3.0->mlcomp) (1.3.0)\n",
      "Requirement already satisfied: billiard<4.0,>=3.6.0 in /home/chengjiun/Softwares/anaconda3/envs/tensorflow/lib/python3.6/site-packages (from celery>=4.3.0->mlcomp) (3.6.0.0)\n",
      "Requirement already satisfied: kombu<5.0,>=4.4.0 in /home/chengjiun/Softwares/anaconda3/envs/tensorflow/lib/python3.6/site-packages (from celery>=4.3.0->mlcomp) (4.6.3)\n",
      "Requirement already satisfied: meld3>=1.0.0 in /home/chengjiun/Softwares/anaconda3/envs/tensorflow/lib/python3.6/site-packages (from supervisor>=4.0.4->mlcomp) (1.0.2)\n",
      "Requirement already satisfied: Tempita>=0.4 in /home/chengjiun/Softwares/anaconda3/envs/tensorflow/lib/python3.6/site-packages (from sqlalchemy-migrate>=0.12.0->mlcomp) (0.5.2)\n",
      "Requirement already satisfied: pbr>=1.8 in /home/chengjiun/Softwares/anaconda3/envs/tensorflow/lib/python3.6/site-packages (from sqlalchemy-migrate>=0.12.0->mlcomp) (5.4.3)\n",
      "Requirement already satisfied: sqlparse in /home/chengjiun/Softwares/anaconda3/envs/tensorflow/lib/python3.6/site-packages (from sqlalchemy-migrate>=0.12.0->mlcomp) (0.3.0)\n",
      "Requirement already satisfied: munch in /home/chengjiun/Softwares/anaconda3/envs/tensorflow/lib/python3.6/site-packages (from pretrainedmodels>=0.7.4->mlcomp) (2.3.2)\n",
      "Requirement already satisfied: MarkupSafe>=0.23 in /home/chengjiun/Softwares/anaconda3/envs/tensorflow/lib/python3.6/site-packages (from Jinja2>=2.10.1->flask>=1.0.2->mlcomp) (1.1.1)\n",
      "Requirement already satisfied: text-unidecode==1.2 in /home/chengjiun/Softwares/anaconda3/envs/tensorflow/lib/python3.6/site-packages (from python-slugify->kaggle>=1.5.3->mlcomp) (1.2)\n",
      "Requirement already satisfied: apipkg>=1.4 in /home/chengjiun/Softwares/anaconda3/envs/tensorflow/lib/python3.6/site-packages (from execnet>=1.1->pytest-xdist>=1.29.0->mlcomp) (1.5)\n",
      "Requirement already satisfied: PyWavelets>=0.4.0 in /home/chengjiun/Softwares/anaconda3/envs/tensorflow/lib/python3.6/site-packages (from scikit-image>=0.14.2->catalyst==19.9.3->mlcomp) (1.0.3)\n",
      "Requirement already satisfied: pillow>=4.3.0 in /home/chengjiun/Softwares/anaconda3/envs/tensorflow/lib/python3.6/site-packages (from scikit-image>=0.14.2->catalyst==19.9.3->mlcomp) (6.1.0)\n",
      "Requirement already satisfied: retrying>=1.3.3 in /home/chengjiun/Softwares/anaconda3/envs/tensorflow/lib/python3.6/site-packages (from plotly>=4.1.0->catalyst==19.9.3->mlcomp) (1.3.3)\n",
      "Requirement already satisfied: protobuf>=3.2.0 in /home/chengjiun/Softwares/anaconda3/envs/tensorflow/lib/python3.6/site-packages (from tensorboardX>=1.8->catalyst==19.9.3->mlcomp) (3.8.0)\n",
      "Requirement already satisfied: cycler>=0.10 in /home/chengjiun/Softwares/anaconda3/envs/tensorflow/lib/python3.6/site-packages (from matplotlib->catalyst==19.9.3->mlcomp) (0.10.0)\n",
      "Requirement already satisfied: kiwisolver>=1.0.1 in /home/chengjiun/Softwares/anaconda3/envs/tensorflow/lib/python3.6/site-packages (from matplotlib->catalyst==19.9.3->mlcomp) (1.1.0)\n",
      "Requirement already satisfied: pyparsing!=2.0.4,!=2.1.2,!=2.1.6,>=2.0.1 in /home/chengjiun/Softwares/anaconda3/envs/tensorflow/lib/python3.6/site-packages (from matplotlib->catalyst==19.9.3->mlcomp) (2.4.2)\n",
      "Requirement already satisfied: ipython>=4.0.0; python_version >= \"3.3\" in /home/chengjiun/Softwares/anaconda3/envs/tensorflow/lib/python3.6/site-packages (from ipywidgets->jupyter->mlcomp) (7.7.0)\n",
      "Requirement already satisfied: nbformat>=4.2.0 in /home/chengjiun/Softwares/anaconda3/envs/tensorflow/lib/python3.6/site-packages (from ipywidgets->jupyter->mlcomp) (4.4.0)\n",
      "Requirement already satisfied: traitlets>=4.3.1 in /home/chengjiun/Softwares/anaconda3/envs/tensorflow/lib/python3.6/site-packages (from ipywidgets->jupyter->mlcomp) (4.3.2)\n",
      "Requirement already satisfied: widgetsnbextension~=3.5.0 in /home/chengjiun/Softwares/anaconda3/envs/tensorflow/lib/python3.6/site-packages (from ipywidgets->jupyter->mlcomp) (3.5.1)\n",
      "Requirement already satisfied: defusedxml in /home/chengjiun/Softwares/anaconda3/envs/tensorflow/lib/python3.6/site-packages (from nbconvert->jupyter->mlcomp) (0.6.0)\n",
      "Requirement already satisfied: pygments in /home/chengjiun/Softwares/anaconda3/envs/tensorflow/lib/python3.6/site-packages (from nbconvert->jupyter->mlcomp) (2.4.2)\n",
      "Requirement already satisfied: pandocfilters>=1.4.1 in /home/chengjiun/Softwares/anaconda3/envs/tensorflow/lib/python3.6/site-packages (from nbconvert->jupyter->mlcomp) (1.4.2)\n",
      "Requirement already satisfied: testpath in /home/chengjiun/Softwares/anaconda3/envs/tensorflow/lib/python3.6/site-packages (from nbconvert->jupyter->mlcomp) (0.4.2)\n",
      "Requirement already satisfied: mistune>=0.8.1 in /home/chengjiun/Softwares/anaconda3/envs/tensorflow/lib/python3.6/site-packages (from nbconvert->jupyter->mlcomp) (0.8.4)\n",
      "Requirement already satisfied: entrypoints>=0.2.2 in /home/chengjiun/Softwares/anaconda3/envs/tensorflow/lib/python3.6/site-packages (from nbconvert->jupyter->mlcomp) (0.3)\n",
      "Requirement already satisfied: bleach in /home/chengjiun/Softwares/anaconda3/envs/tensorflow/lib/python3.6/site-packages (from nbconvert->jupyter->mlcomp) (3.1.0)\n",
      "Requirement already satisfied: jupyter-core in /home/chengjiun/Softwares/anaconda3/envs/tensorflow/lib/python3.6/site-packages (from nbconvert->jupyter->mlcomp) (4.5.0)\n",
      "Requirement already satisfied: prompt-toolkit<2.1.0,>=2.0.0 in /home/chengjiun/Softwares/anaconda3/envs/tensorflow/lib/python3.6/site-packages (from jupyter-console->jupyter->mlcomp) (2.0.9)\n",
      "Requirement already satisfied: jupyter-client in /home/chengjiun/Softwares/anaconda3/envs/tensorflow/lib/python3.6/site-packages (from jupyter-console->jupyter->mlcomp) (5.3.1)\n",
      "Requirement already satisfied: pyzmq>=17 in /home/chengjiun/Softwares/anaconda3/envs/tensorflow/lib/python3.6/site-packages (from notebook->jupyter->mlcomp) (18.1.0)\n"
     ]
    },
    {
     "name": "stdout",
     "output_type": "stream",
     "text": [
      "Requirement already satisfied: ipython-genutils in /home/chengjiun/Softwares/anaconda3/envs/tensorflow/lib/python3.6/site-packages (from notebook->jupyter->mlcomp) (0.2.0)\r\n",
      "Requirement already satisfied: prometheus-client in /home/chengjiun/Softwares/anaconda3/envs/tensorflow/lib/python3.6/site-packages (from notebook->jupyter->mlcomp) (0.7.1)\r\n",
      "Requirement already satisfied: tornado<7,>=4.1 in /home/chengjiun/Softwares/anaconda3/envs/tensorflow/lib/python3.6/site-packages (from notebook->jupyter->mlcomp) (6.0.3)\r\n",
      "Requirement already satisfied: terminado>=0.8.1 in /home/chengjiun/Softwares/anaconda3/envs/tensorflow/lib/python3.6/site-packages (from notebook->jupyter->mlcomp) (0.8.2)\r\n",
      "Requirement already satisfied: Send2Trash in /home/chengjiun/Softwares/anaconda3/envs/tensorflow/lib/python3.6/site-packages (from notebook->jupyter->mlcomp) (1.5.0)\r\n",
      "Requirement already satisfied: zipp>=0.5 in /home/chengjiun/Softwares/anaconda3/envs/tensorflow/lib/python3.6/site-packages (from importlib-metadata>=0.12->pytest>=5.0.1->mlcomp) (0.5.2)\r\n",
      "Requirement already satisfied: amqp<3.0,>=2.5.0 in /home/chengjiun/Softwares/anaconda3/envs/tensorflow/lib/python3.6/site-packages (from kombu<5.0,>=4.4.0->celery>=4.3.0->mlcomp) (2.5.0)\r\n",
      "Requirement already satisfied: pickleshare in /home/chengjiun/Softwares/anaconda3/envs/tensorflow/lib/python3.6/site-packages (from ipython>=4.0.0; python_version >= \"3.3\"->ipywidgets->jupyter->mlcomp) (0.7.5)\r\n",
      "Requirement already satisfied: pexpect; sys_platform != \"win32\" in /home/chengjiun/Softwares/anaconda3/envs/tensorflow/lib/python3.6/site-packages (from ipython>=4.0.0; python_version >= \"3.3\"->ipywidgets->jupyter->mlcomp) (4.7.0)\r\n",
      "Requirement already satisfied: jedi>=0.10 in /home/chengjiun/Softwares/anaconda3/envs/tensorflow/lib/python3.6/site-packages (from ipython>=4.0.0; python_version >= \"3.3\"->ipywidgets->jupyter->mlcomp) (0.15.1)\r\n",
      "Requirement already satisfied: backcall in /home/chengjiun/Softwares/anaconda3/envs/tensorflow/lib/python3.6/site-packages (from ipython>=4.0.0; python_version >= \"3.3\"->ipywidgets->jupyter->mlcomp) (0.1.0)\r\n",
      "Requirement already satisfied: jsonschema!=2.5.0,>=2.4 in /home/chengjiun/Softwares/anaconda3/envs/tensorflow/lib/python3.6/site-packages (from nbformat>=4.2.0->ipywidgets->jupyter->mlcomp) (3.0.2)\r\n",
      "Requirement already satisfied: webencodings in /home/chengjiun/Softwares/anaconda3/envs/tensorflow/lib/python3.6/site-packages (from bleach->nbconvert->jupyter->mlcomp) (0.5.1)\r\n",
      "Requirement already satisfied: ptyprocess>=0.5 in /home/chengjiun/Softwares/anaconda3/envs/tensorflow/lib/python3.6/site-packages (from pexpect; sys_platform != \"win32\"->ipython>=4.0.0; python_version >= \"3.3\"->ipywidgets->jupyter->mlcomp) (0.6.0)\r\n",
      "Requirement already satisfied: parso>=0.5.0 in /home/chengjiun/Softwares/anaconda3/envs/tensorflow/lib/python3.6/site-packages (from jedi>=0.10->ipython>=4.0.0; python_version >= \"3.3\"->ipywidgets->jupyter->mlcomp) (0.5.1)\r\n",
      "Requirement already satisfied: pyrsistent>=0.14.0 in /home/chengjiun/Softwares/anaconda3/envs/tensorflow/lib/python3.6/site-packages (from jsonschema!=2.5.0,>=2.4->nbformat>=4.2.0->ipywidgets->jupyter->mlcomp) (0.14.11)\r\n"
     ]
    }
   ],
   "source": [
    "! pip install mlcomp"
   ]
  },
  {
   "cell_type": "markdown",
   "metadata": {},
   "source": [
    "Start MLComp's server"
   ]
  },
  {
   "cell_type": "code",
   "execution_count": 25,
   "metadata": {
    "ExecuteTime": {
     "end_time": "2019-09-30T08:31:22.340336Z",
     "start_time": "2019-09-30T08:31:22.328724Z"
    }
   },
   "outputs": [],
   "source": [
    "%%script bash --bg --out script_out\n",
    "\n",
    "! mlcomp-server start"
   ]
  },
  {
   "cell_type": "markdown",
   "metadata": {},
   "source": [
    "The sever has just started. If you run this code locally, you can open web browser and see the control panel: http://localhost:4201"
   ]
  },
  {
   "cell_type": "markdown",
   "metadata": {},
   "source": [
    "Dags\n",
    "![Dags](https://github.com/catalyst-team/mlcomp/raw/master/docs/imgs/dags.png)\n",
    "\n",
    "Computers\n",
    "![Computers](https://github.com/catalyst-team/mlcomp/raw/master/docs/imgs/computers.png)\n",
    "\n",
    "Reports\n",
    "![Reports](https://github.com/catalyst-team/mlcomp/raw/master/docs/imgs/reports.png)\n",
    "\n",
    "We have no such an opportunity in a Kaggle kernel. But we can use MLComp's describe module. See below"
   ]
  },
  {
   "cell_type": "markdown",
   "metadata": {},
   "source": [
    "## Catalyst/MLComp short tutorial"
   ]
  },
  {
   "cell_type": "markdown",
   "metadata": {},
   "source": [
    "Catalyst has 2 API: \n",
    "\n",
    "1. python API, you are importing regular classes\n",
    "2. config API, you are declaring an execution process in a special configuration file and run catalyst-dl run --config=PATH_TO_CONFIG"
   ]
  },
  {
   "cell_type": "markdown",
   "metadata": {},
   "source": [
    "We use the second scenario. Let's have a look at our Catalyst config file"
   ]
  },
  {
   "cell_type": "code",
   "execution_count": 26,
   "metadata": {
    "ExecuteTime": {
     "end_time": "2019-09-30T08:32:28.080062Z",
     "start_time": "2019-09-30T08:32:27.966236Z"
    }
   },
   "outputs": [
    {
     "name": "stdout",
     "output_type": "stream",
     "text": [
      "catalyst_kaggle.yml  kaggle.yml\r\n"
     ]
    }
   ],
   "source": [
    "ls configs_kaggle"
   ]
  },
  {
   "cell_type": "code",
   "execution_count": 27,
   "metadata": {
    "ExecuteTime": {
     "end_time": "2019-09-30T08:32:28.569981Z",
     "start_time": "2019-09-30T08:32:28.453347Z"
    }
   },
   "outputs": [
    {
     "name": "stdout",
     "output_type": "stream",
     "text": [
      "model_params:\r\n",
      "  model: SegmentationModelPytorch\r\n",
      "  num_classes: 4\r\n",
      "  arch: Unet\r\n",
      "  encoder: resnet34\r\n",
      "\r\n",
      "args:\r\n",
      "  expdir: \"catalyst_segment_kaggle\"\r\n",
      "  logdir: \"log\"\r\n",
      "\r\n",
      "stages:\r\n",
      "\r\n",
      "  data_params:\r\n",
      "    num_workers: 2\r\n",
      "    batch_size: 36\r\n",
      "    per_gpu_scaling: True\r\n",
      "    img_folder: '../DATA/kaggle-2019Q3-steel/train_images/'\r\n",
      "    mask_folder: '../DATA/kaggle-2019Q3-steel/train_masks/'\r\n",
      "    fold_csv: '../DATA/kaggle-2019Q3-steel/masks.csv'\r\n",
      "    fold_number: 0\r\n",
      "\r\n",
      "  state_params:\r\n",
      "    main_metric: dice\r\n",
      "    minimize_metric: False\r\n",
      "\r\n",
      "  criterion_params:\r\n",
      "    criterion: BCEDiceLoss\r\n",
      "\r\n",
      "  callbacks_params:\r\n",
      "    loss:\r\n",
      "      callback: CriterionCallback\r\n",
      "    optimizer:\r\n",
      "      callback: OptimizerCallback\r\n",
      "    saver:\r\n",
      "      callback: CheckpointCallback\r\n",
      "    dice:\r\n",
      "      callback: DiceCallback\r\n",
      "\r\n",
      "  stage1:\r\n",
      "    state_params:\r\n",
      "      num_epochs: 360\r\n",
      "\r\n",
      "    optimizer_params:\r\n",
      "      optimizer: Adam\r\n",
      "      lr: 0.001\r\n",
      "      layerwise_params:\r\n",
      "        model.encoder*:\r\n",
      "          lr: 0.00001\r\n",
      "        model.decoder*:\r\n",
      "          lr: 0.001\r\n"
     ]
    }
   ],
   "source": [
    "cat configs_kaggle/catalyst_kaggle.yml"
   ]
  },
  {
   "cell_type": "markdown",
   "metadata": {},
   "source": [
    "SegmentationModelPytorch here is a wrapper of this library: https://github.com/qubvel/segmentation_models.pytorch\n",
    "\n",
    "We are declaring a model, stages, callbacks, criterion, number of epochs, etc. in a special configuration file.\n",
    "\n",
    "Then, we could run it via catalyst-dl run --config=../input/severstal/severstal/configs_kaggle/catalyst_kaggle.yml"
   ]
  },
  {
   "cell_type": "markdown",
   "metadata": {},
   "source": [
    "But instead of if, we are declaring one additional config for [MLComp](https://github.com/catalyst-team/mlcomp).\n",
    "\n",
    "[MLComp](https://github.com/catalyst-team/mlcomp) helps to declare DAG and execute it in a parallel."
   ]
  },
  {
   "cell_type": "code",
   "execution_count": 12,
   "metadata": {
    "ExecuteTime": {
     "end_time": "2019-09-30T07:14:19.908229Z",
     "start_time": "2019-09-30T07:14:19.794534Z"
    }
   },
   "outputs": [
    {
     "name": "stdout",
     "output_type": "stream",
     "text": [
      "info:\r\n",
      "  name: kaggle_kernel\r\n",
      "  project: severstal\r\n",
      "  layout: segment\r\n",
      "  expdir: ../\r\n",
      "executors:\r\n",
      "  preprocess:\r\n",
      "    type: preprocess\r\n",
      "  masks:\r\n",
      "    type: masks\r\n",
      "    depends: preprocess\r\n",
      "  train:\r\n",
      "    type: catalyst\r\n",
      "    gpu: 1\r\n",
      "    args:\r\n",
      "      config: configs_kaggle/catalyst_kaggle.yml\r\n",
      "    depends: masks\r\n",
      "    trace: trace.pth\r\n",
      "    grid:\r\n",
      "      - - encoder: resnet34\r\n",
      "        - encoder: se_resnext50_32x4d\r\n",
      "          batch_size: 16\r\n",
      "        - model_params:\r\n",
      "            model: MobileUnet\r\n",
      "            input_size: 256\r\n",
      "            pretrained: True\r\n",
      "            num_classes: 4\r\n",
      "            layerwise_params: {}"
     ]
    }
   ],
   "source": [
    "cat configs_kaggle/kaggle.yml"
   ]
  },
  {
   "cell_type": "markdown",
   "metadata": {},
   "source": [
    "You can see here:\n",
    "\n",
    "1. basic info about DAG in info section\n",
    "\n",
    "2. declaring DAG's structure in executors section."
   ]
  },
  {
   "cell_type": "markdown",
   "metadata": {},
   "source": [
    "DAG's element is known as Executor. They are here: preprocess, masks, train\n",
    "\n",
    "Each executor must be declared somewhere in your project's folder where you are running ```mlcomp dag``` command"
   ]
  },
  {
   "cell_type": "markdown",
   "metadata": {},
   "source": [
    "That is our project folder. Executors folder contains our executors."
   ]
  },
  {
   "cell_type": "markdown",
   "metadata": {},
   "source": [
    "Preprocess is a standard group K-Fold stratification"
   ]
  },
  {
   "cell_type": "code",
   "execution_count": 28,
   "metadata": {
    "ExecuteTime": {
     "end_time": "2019-09-30T08:38:53.572435Z",
     "start_time": "2019-09-30T08:38:53.450767Z"
    },
    "_kg_hide-output": true
   },
   "outputs": [
    {
     "name": "stdout",
     "output_type": "stream",
     "text": [
      "import pandas as pd\r\n",
      "\r\n",
      "from mlcomp.contrib.split import stratified_group_k_fold\r\n",
      "from mlcomp.worker.executors import Executor\r\n",
      "\r\n",
      "BASE_DIR = '../DATA/kaggle-2019Q3-steel/'\r\n",
      "\r\n",
      "@Executor.register\r\n",
      "class Preprocess(Executor):\r\n",
      "    def work(self):\r\n",
      "        df = pd.read_csv(f'{BASE_DIR}/train.csv')\r\n",
      "        df['exists'] = df['EncodedPixels'].notnull().astype(int)\r\n",
      "\r\n",
      "        df['image_name'] = df['ImageId_ClassId'].map(\r\n",
      "            lambda x: x.split('_')[0].strip()\r\n",
      "        )\r\n",
      "        df['class_id'] = df['ImageId_ClassId'].map(\r\n",
      "            lambda x: int(x.split('_')[-1])\r\n",
      "        )\r\n",
      "        df['class_id'] = [\r\n",
      "            row.class_id if row.exists else 0 for row in df.itertuples()\r\n",
      "        ]\r\n",
      "        df['fold'] = stratified_group_k_fold(\r\n",
      "            label='class_id', group_column='image_name', df=df, n_splits=5\r\n",
      "        )\r\n",
      "        df.to_csv(f'TEMP/fold.csv', index=False)\r\n",
      "\r\n",
      "\r\n",
      "if __name__ == '__main__':\r\n",
      "    Preprocess().work()\r\n"
     ]
    }
   ],
   "source": [
    "cat executors/preprocess.py"
   ]
  },
  {
   "cell_type": "markdown",
   "metadata": {},
   "source": [
    "masks converts masks from csv file to regular png masks"
   ]
  },
  {
   "cell_type": "code",
   "execution_count": 29,
   "metadata": {
    "ExecuteTime": {
     "end_time": "2019-09-30T08:40:38.779602Z",
     "start_time": "2019-09-30T08:40:38.662924Z"
    },
    "_kg_hide-output": true
   },
   "outputs": [
    {
     "name": "stdout",
     "output_type": "stream",
     "text": [
      "import os\r\n",
      "\r\n",
      "import cv2\r\n",
      "import pandas as pd\r\n",
      "from tqdm import tqdm\r\n",
      "import numpy as np\r\n",
      "\r\n",
      "from mlcomp.contrib.transform.rle import rle2mask\r\n",
      "from mlcomp.worker.executors import Executor\r\n",
      "from executor.preprocess import BASE_DIR\r\n",
      "\r\n",
      "@Executor.register\r\n",
      "class Masks(Executor):\r\n",
      "    def work(self) -> dict:\r\n",
      "        df = pd.read_csv('TEMP/fold.csv')\r\n",
      "        os.makedirs(f'{BASE_DIR}/train_masks', exist_ok=True)\r\n",
      "\r\n",
      "        df = df.sort_values(by='ImageId_ClassId')\r\n",
      "        size = (256, 1600)\r\n",
      "        mask = np.zeros(size)\r\n",
      "        res = []\r\n",
      "        for row in tqdm(df.itertuples(), total=df.shape[0]):\r\n",
      "            pixels = row.EncodedPixels\r\n",
      "            if not isinstance(pixels, str):\r\n",
      "                pixels = ''\r\n",
      "\r\n",
      "            mask_cls = rle2mask(pixels, size[::-1])\r\n",
      "            mask[mask_cls > 0] = row.class_id\r\n",
      "\r\n",
      "            if row.ImageId_ClassId.endswith('_4'):\r\n",
      "                img_id = row.ImageId_ClassId.split('.')[0].strip()\r\n",
      "                cv2.imwrite(f'{BASE_DIR}/train_masks/{img_id}.png', mask)\r\n",
      "                mask = np.zeros(size)\r\n",
      "\r\n",
      "                res.append(\r\n",
      "                    {\r\n",
      "                        'fold': row.fold,\r\n",
      "                        'image': f'{img_id}.jpg',\r\n",
      "                        'mask': f'{img_id}.png'\r\n",
      "                    }\r\n",
      "                )\r\n",
      "\r\n",
      "        pd.DataFrame(res).to_csv(f'{BASE_DIR}/masks.csv', index=False)\r\n",
      "\r\n",
      "\r\n",
      "if __name__ == '__main__':\r\n",
      "    Masks().work()\r\n"
     ]
    }
   ],
   "source": [
    "cat executors/masks.py"
   ]
  },
  {
   "cell_type": "markdown",
   "metadata": {},
   "source": [
    "train executor is a standard executor declared in MLComp library. That is a wrapper of Catalyst."
   ]
  },
  {
   "cell_type": "markdown",
   "metadata": {},
   "source": [
    "## Severstal DAG execution"
   ]
  },
  {
   "cell_type": "markdown",
   "metadata": {},
   "source": [
    "Link Kaggle-specific folders"
   ]
  },
  {
   "cell_type": "markdown",
   "metadata": {},
   "source": [
    "Start DAG"
   ]
  },
  {
   "cell_type": "code",
   "execution_count": 23,
   "metadata": {
    "ExecuteTime": {
     "end_time": "2019-09-30T08:04:43.468067Z",
     "start_time": "2019-09-30T08:04:36.559626Z"
    }
   },
   "outputs": [],
   "source": [
    "! sleep 5\n",
    "! mlcomp dag configs_kaggle/kaggle.yml --params=~/Workspace/kaggle-2019Q3-steel/executors/train/params/data_params/max_count:50 --params=~/Workspace/kaggle-2019Q3-steel/executors/train/params/num_epochs:3"
   ]
  },
  {
   "cell_type": "code",
   "execution_count": 20,
   "metadata": {
    "ExecuteTime": {
     "end_time": "2019-09-30T07:51:45.501595Z",
     "start_time": "2019-09-30T07:51:43.775584Z"
    }
   },
   "outputs": [],
   "source": [
    "! mlcomp dag configs_kaggle/kaggle.yml"
   ]
  },
  {
   "cell_type": "markdown",
   "metadata": {},
   "source": [
    "### IMPORTANT \n",
    "\n",
    "If you are running this code locally, run only ```mlcomp dag ../input/severstal/severstal/configs_kaggle/kaggle.yml```\n",
    "\n",
    "This kernel provides a demo run only. With a limited number of samples and epochs."
   ]
  },
  {
   "cell_type": "markdown",
   "metadata": {},
   "source": [
    "Describe the DAG execution status"
   ]
  },
  {
   "cell_type": "code",
   "execution_count": 21,
   "metadata": {
    "ExecuteTime": {
     "end_time": "2019-09-30T07:51:54.783747Z",
     "start_time": "2019-09-30T07:51:53.583062Z"
    }
   },
   "outputs": [
    {
     "data": {
      "text/html": [
       "<div>\n",
       "<style scoped>\n",
       "    .dataframe tbody tr th:only-of-type {\n",
       "        vertical-align: middle;\n",
       "    }\n",
       "\n",
       "    .dataframe tbody tr th {\n",
       "        vertical-align: top;\n",
       "    }\n",
       "\n",
       "    .dataframe thead th {\n",
       "        text-align: right;\n",
       "    }\n",
       "</style>\n",
       "<table border=\"1\" class=\"dataframe\">\n",
       "  <thead>\n",
       "    <tr style=\"text-align: right;\">\n",
       "      <th></th>\n",
       "      <th>id</th>\n",
       "      <th>name</th>\n",
       "    </tr>\n",
       "  </thead>\n",
       "  <tbody>\n",
       "    <tr>\n",
       "      <th>0</th>\n",
       "      <td>1</td>\n",
       "      <td>preprocess</td>\n",
       "    </tr>\n",
       "    <tr>\n",
       "      <th>1</th>\n",
       "      <td>2</td>\n",
       "      <td>masks</td>\n",
       "    </tr>\n",
       "    <tr>\n",
       "      <th>2</th>\n",
       "      <td>3</td>\n",
       "      <td>encoder=resnet34</td>\n",
       "    </tr>\n",
       "    <tr>\n",
       "      <th>3</th>\n",
       "      <td>4</td>\n",
       "      <td>encoder=se_resnext50_32x4d batch_size=16</td>\n",
       "    </tr>\n",
       "    <tr>\n",
       "      <th>4</th>\n",
       "      <td>5</td>\n",
       "      <td>model_params/model=MobileUnet model_params/input_size=256 model_params/pretrained=True model_params/num_classes=4</td>\n",
       "    </tr>\n",
       "  </tbody>\n",
       "</table>\n",
       "</div>"
      ],
      "text/plain": [
       "   id                                                                                                               name\n",
       "0  1   preprocess                                                                                                       \n",
       "1  2   masks                                                                                                            \n",
       "2  3   encoder=resnet34                                                                                                 \n",
       "3  4   encoder=se_resnext50_32x4d batch_size=16                                                                         \n",
       "4  5   model_params/model=MobileUnet model_params/input_size=256 model_params/pretrained=True model_params/num_classes=4"
      ]
     },
     "execution_count": 21,
     "metadata": {},
     "output_type": "execute_result"
    }
   ],
   "source": [
    "from mlcomp.utils.describe import describe, describe_task_names\n",
    "describe_task_names(dag=1)"
   ]
  },
  {
   "cell_type": "markdown",
   "metadata": {},
   "source": [
    "If you run this kernel, you will see an auto-refreshing describe panel below. (otherwise, you see only the last plot)"
   ]
  },
  {
   "cell_type": "code",
   "execution_count": 22,
   "metadata": {
    "ExecuteTime": {
     "end_time": "2019-09-30T07:52:10.107448Z",
     "start_time": "2019-09-30T07:52:09.502485Z"
    }
   },
   "outputs": [
    {
     "name": "stdout",
     "output_type": "stream",
     "text": [
      "2019-09-30 07:48:55.537197\n",
      "Traceback (most recent call last):\n",
      "  File \"/home/chengjiun/Softwares/anaconda3/envs/tensorflow/lib/python3.6/site-packages/mlcomp/worker/tasks.py\", line 243, in build\n",
      "    self.download()\n",
      "  File \"/home/chengjiun/Softwares/anaconda3/envs/tensorflow/lib/python3.6/site-packages/mlcomp/worker/tasks.py\", line 159, in download\n",
      "    raise Exception(f'Executor = {executor_type} not found')\n",
      "Exception: Executor = preprocess not found\n",
      "\n"
     ]
    },
    {
     "data": {
      "image/png": "[encoded data removed]",
      "text/plain": [
       "<Figure size 720x1080 with 4 Axes>"
      ]
     },
     "metadata": {},
     "output_type": "display_data"
    }
   ],
   "source": [
    "describe(dag=1, metrics=['loss', 'dice'], wait=True, task_with_metric_count=3, fig_size=(10 ,15))"
   ]
  },
  {
   "cell_type": "markdown",
   "metadata": {},
   "source": [
    "#### Copy result models\n",
    "\n",
    "Catalyst has a special mechanism named tracing. You can combine a model and that weights in as a single file.\n",
    "\n",
    "We have done it, actually. ( we declared ```trace``` configuration for train executor).\n",
    "\n",
    "All we need to do now, is to copy the result files."
   ]
  },
  {
   "cell_type": "code",
   "execution_count": null,
   "metadata": {},
   "outputs": [],
   "source": [
    "! cp ~/mlcomp/tasks/3/trace.pth unet_resnet34.pth\n",
    "! cp ~/mlcomp/tasks/4/trace.pth unet_se_resnext50_32x4d.pth\n",
    "! cp ~/mlcomp/tasks/5/trace.pth unet_mobilenet2.pth"
   ]
  },
  {
   "cell_type": "markdown",
   "metadata": {},
   "source": [
    "### Conclusion\n",
    "\n",
    "We have seen a short demonstration of MLComp/Catalyst execution process.\n",
    "\n",
    "You can find inference here https://www.kaggle.com/lightforever/severstal-mlcomp-catalyst-infer-0-90672 "
   ]
  },
  {
   "cell_type": "code",
   "execution_count": null,
   "metadata": {},
   "outputs": [],
   "source": []
  }
 ],
 "metadata": {
  "kernelspec": {
   "display_name": "Python 3",
   "language": "python",
   "name": "python3"
  },
  "language_info": {
   "codemirror_mode": {
    "name": "ipython",
    "version": 3
   },
   "file_extension": ".py",
   "mimetype": "text/x-python",
   "name": "python",
   "nbconvert_exporter": "python",
   "pygments_lexer": "ipython3",
   "version": "3.6.9"
  },
  "toc": {
   "base_numbering": 1,
   "nav_menu": {},
   "number_sections": true,
   "sideBar": true,
   "skip_h1_title": false,
   "title_cell": "Table of Contents",
   "title_sidebar": "Contents",
   "toc_cell": false,
   "toc_position": {},
   "toc_section_display": true,
   "toc_window_display": false
  },
  "varInspector": {
   "cols": {
    "lenName": 16,
    "lenType": 16,
    "lenVar": 40
   },
   "kernels_config": {
    "python": {
     "delete_cmd_postfix": "",
     "delete_cmd_prefix": "del ",
     "library": "var_list.py",
     "varRefreshCmd": "print(var_dic_list())"
    },
    "r": {
     "delete_cmd_postfix": ") ",
     "delete_cmd_prefix": "rm(",
     "library": "var_list.r",
     "varRefreshCmd": "cat(var_dic_list()) "
    }
   },
   "types_to_exclude": [
    "module",
    "function",
    "builtin_function_or_method",
    "instance",
    "_Feature"
   ],
   "window_display": false
  }
 },
 "nbformat": 4,
 "nbformat_minor": 1
}

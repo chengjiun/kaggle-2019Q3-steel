{
 "cells": [
  {
   "cell_type": "code",
   "execution_count": 1,
   "metadata": {
    "ExecuteTime": {
     "end_time": "2019-09-30T08:38:13.520212Z",
     "start_time": "2019-09-30T08:38:13.513673Z"
    }
   },
   "outputs": [
    {
     "name": "stdout",
     "output_type": "stream",
     "text": [
      "/home/chengjiun/Workspace/kaggle-2019Q3-steel\n"
     ]
    }
   ],
   "source": [
    "%cd ~/Workspace/kaggle-2019Q3-steel/"
   ]
  },
  {
   "cell_type": "code",
   "execution_count": 4,
   "metadata": {
    "ExecuteTime": {
     "end_time": "2019-09-30T08:39:11.282411Z",
     "start_time": "2019-09-30T08:39:11.277158Z"
    }
   },
   "outputs": [],
   "source": [
    "import pandas as pd\n",
    "\n",
    "from mlcomp.contrib.split import stratified_group_k_fold\n",
    "from mlcomp.worker.executors import Executor\n",
    "\n",
    "BASE_DIR = '../DATA/kaggle-2019Q3-steel/'\n",
    "\n",
    "@Executor.register\n",
    "class Preprocess(Executor):\n",
    "    def work(self):\n",
    "        df = pd.read_csv(f'{BASE_DIR}/train.csv')\n",
    "        df['exists'] = df['EncodedPixels'].notnull().astype(int)\n",
    "\n",
    "        df['image_name'] = df['ImageId_ClassId'].map(\n",
    "            lambda x: x.split('_')[0].strip()\n",
    "        )\n",
    "        df['class_id'] = df['ImageId_ClassId'].map(\n",
    "            lambda x: int(x.split('_')[-1])\n",
    "        )\n",
    "        df['class_id'] = [\n",
    "            row.class_id if row.exists else 0 for row in df.itertuples()\n",
    "        ]\n",
    "        df['fold'] = stratified_group_k_fold(\n",
    "            label='class_id', group_column='image_name', df=df, n_splits=5\n",
    "        )\n",
    "        df.to_csv(f'TEMP/fold.csv', index=False)\n"
   ]
  },
  {
   "cell_type": "code",
   "execution_count": 5,
   "metadata": {
    "ExecuteTime": {
     "end_time": "2019-09-30T08:39:12.583883Z",
     "start_time": "2019-09-30T08:39:11.851184Z"
    }
   },
   "outputs": [],
   "source": [
    "Preprocess().work()"
   ]
  },
  {
   "cell_type": "code",
   "execution_count": 8,
   "metadata": {
    "ExecuteTime": {
     "end_time": "2019-09-30T08:41:42.279941Z",
     "start_time": "2019-09-30T08:41:42.273392Z"
    }
   },
   "outputs": [],
   "source": [
    "import os\n",
    "\n",
    "import cv2\n",
    "import pandas as pd\n",
    "from tqdm import tqdm\n",
    "import numpy as np\n",
    "\n",
    "from mlcomp.contrib.transform.rle import rle2mask\n",
    "from mlcomp.worker.executors import Executor\n",
    "from executors.preprocess import BASE_DIR\n",
    "\n",
    "@Executor.register\n",
    "class Masks(Executor):\n",
    "    def work(self) -> dict:\n",
    "        df = pd.read_csv('TEMP/fold.csv')\n",
    "        os.makedirs(f'{BASE_DIR}/train_masks', exist_ok=True)\n",
    "\n",
    "        df = df.sort_values(by='ImageId_ClassId')\n",
    "        size = (256, 1600)\n",
    "        mask = np.zeros(size)\n",
    "        res = []\n",
    "        for row in tqdm(df.itertuples(), total=df.shape[0]):\n",
    "            pixels = row.EncodedPixels\n",
    "            if not isinstance(pixels, str):\n",
    "                pixels = ''\n",
    "\n",
    "            mask_cls = rle2mask(pixels, size[::-1])\n",
    "            mask[mask_cls > 0] = row.class_id\n",
    "\n",
    "            if row.ImageId_ClassId.endswith('_4'):\n",
    "                img_id = row.ImageId_ClassId.split('.')[0].strip()\n",
    "                cv2.imwrite(f'{BASE_DIR}/train_masks/{img_id}.png', mask)\n",
    "                mask = np.zeros(size)\n",
    "\n",
    "                res.append(\n",
    "                    {\n",
    "                        'fold': row.fold,\n",
    "                        'image': f'{img_id}.jpg',\n",
    "                        'mask': f'{img_id}.png'\n",
    "                    }\n",
    "                )\n",
    "\n",
    "        pd.DataFrame(res).to_csv(f'{BASE_DIR}/masks.csv', index=False)"
   ]
  },
  {
   "cell_type": "code",
   "execution_count": 9,
   "metadata": {
    "ExecuteTime": {
     "end_time": "2019-09-30T08:42:32.313365Z",
     "start_time": "2019-09-30T08:42:05.088162Z"
    }
   },
   "outputs": [
    {
     "name": "stderr",
     "output_type": "stream",
     "text": [
      "100%|██████████| 50272/50272 [00:26<00:00, 1862.85it/s]\n"
     ]
    }
   ],
   "source": [
    "Masks().work()"
   ]
  },
  {
   "cell_type": "code",
   "execution_count": null,
   "metadata": {},
   "outputs": [],
   "source": []
  }
 ],
 "metadata": {
  "kernelspec": {
   "display_name": "Python 3",
   "language": "python",
   "name": "python3"
  },
  "language_info": {
   "codemirror_mode": {
    "name": "ipython",
    "version": 3
   },
   "file_extension": ".py",
   "mimetype": "text/x-python",
   "name": "python",
   "nbconvert_exporter": "python",
   "pygments_lexer": "ipython3",
   "version": "3.6.9"
  },
  "toc": {
   "base_numbering": 1,
   "nav_menu": {},
   "number_sections": true,
   "sideBar": true,
   "skip_h1_title": false,
   "title_cell": "Table of Contents",
   "title_sidebar": "Contents",
   "toc_cell": false,
   "toc_position": {},
   "toc_section_display": true,
   "toc_window_display": false
  },
  "varInspector": {
   "cols": {
    "lenName": 16,
    "lenType": 16,
    "lenVar": 40
   },
   "kernels_config": {
    "python": {
     "delete_cmd_postfix": "",
     "delete_cmd_prefix": "del ",
     "library": "var_list.py",
     "varRefreshCmd": "print(var_dic_list())"
    },
    "r": {
     "delete_cmd_postfix": ") ",
     "delete_cmd_prefix": "rm(",
     "library": "var_list.r",
     "varRefreshCmd": "cat(var_dic_list()) "
    }
   },
   "types_to_exclude": [
    "module",
    "function",
    "builtin_function_or_method",
    "instance",
    "_Feature"
   ],
   "window_display": false
  }
 },
 "nbformat": 4,
 "nbformat_minor": 2
}

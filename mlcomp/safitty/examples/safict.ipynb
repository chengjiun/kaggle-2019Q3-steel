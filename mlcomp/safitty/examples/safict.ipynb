{
 "cells": [
  {
   "cell_type": "markdown",
   "source": [
    "# Safitty dict\n",
    "You can create Safitty dict with constructor"
   ],
   "metadata": {
    "collapsed": false
   }
  },
  {
   "cell_type": "code",
   "execution_count": 2,
   "outputs": [
    {
     "name": "stdout",
     "text": [
      "Safict(\n\tseparator=None\n\tlength=2\n\tstorage={'array': {'len': 3, 'value': [1, 2, 3]}, 'key': 'value'}\n)\n"
     ],
     "output_type": "stream"
    }
   ],
   "source": [
    "from safitty import Safict\n",
    "\n",
    "safict = Safict(dict(key=\"value\", array=dict(len=3, value=[1, 2, 3])))\n",
    "print(safict)"
   ],
   "metadata": {
    "collapsed": false,
    "pycharm": {
     "name": "#%%\n",
     "is_executing": false
    }
   }
  },
  {
   "cell_type": "markdown",
   "source": [
    "or with load function"
   ],
   "metadata": {
    "collapsed": false,
    "pycharm": {
     "name": "#%% md\n"
    }
   }
  },
  {
   "cell_type": "code",
   "execution_count": 9,
   "outputs": [
    {
     "name": "stdout",
     "text": [
      "Safict(\n\tseparator=None\n\tlength=5\n\tstorage={'paths': {'images': 'important/path/to/images/',\n           'jsons': ['first', 'second', 'third']},\n 'reader': {'need_reader': True,\n            'params': {'grayscale': True, 'height': 521, 'width': 512}},\n 'status': 1,\n 'transforms': [{'function': 'ToTensor', 'name': 'Normalize', 'params': None},\n                {'function': 'Pad',\n                 'name': 'Padding',\n                 'params': {'fill': 3, 'padding_mode': 'reflect'}}],\n 'verbose': False}\n)\n"
     ],
     "output_type": "stream"
    }
   ],
   "source": [
    "safict = Safict.load(\"./config.yml\")\n",
    "print(safict)"
   ],
   "metadata": {
    "collapsed": false,
    "pycharm": {
     "name": "#%%\n",
     "is_executing": false
    }
   }
  },
  {
   "cell_type": "markdown",
   "source": [
    "API of Safict is quiet similar to safitty.core module."
   ],
   "metadata": {
    "collapsed": false,
    "pycharm": {
     "name": "#%% md\n",
     "is_executing": false
    }
   }
  },
  {
   "cell_type": "code",
   "execution_count": 11,
   "outputs": [
    {
     "data": {
      "text/plain": "'important/path/to/images/'"
     },
     "metadata": {},
     "output_type": "execute_result",
     "execution_count": 11
    }
   ],
   "source": [
    "safict.get(\"paths\", \"images\")"
   ],
   "metadata": {
    "collapsed": false,
    "pycharm": {
     "name": "#%%\n",
     "is_executing": false
    }
   }
  },
  {
   "cell_type": "code",
   "execution_count": 12,
   "outputs": [
    {
     "data": {
      "text/plain": "'second'"
     },
     "metadata": {},
     "output_type": "execute_result",
     "execution_count": 12
    }
   ],
   "source": [
    "safict.get(\"paths\", \"jsons\", 1)"
   ],
   "metadata": {
    "collapsed": false,
    "pycharm": {
     "name": "#%%\n",
     "is_executing": false
    }
   }
  },
  {
   "cell_type": "markdown",
   "source": [
    "Difference here is the `set` function returns a new copy of Safict"
   ],
   "metadata": {
    "collapsed": false,
    "pycharm": {
     "name": "#%% md\n"
    }
   }
  },
  {
   "cell_type": "code",
   "execution_count": 14,
   "outputs": [
    {
     "data": {
      "text/plain": "<safitty.dict.Safict at 0x10a25a5f8>"
     },
     "metadata": {},
     "output_type": "execute_result",
     "execution_count": 14
    }
   ],
   "source": [
    "safict.set(\"brand\", \"new\", \"value\", value=\"hi!\")\n",
    "\n",
    "print(safict.get(\"brand\", \"new\", \"value\") is None) # True"
   ],
   "metadata": {
    "collapsed": false,
    "pycharm": {
     "name": "#%%\n",
     "is_executing": false
    }
   }
  },
  {
   "cell_type": "markdown",
   "source": [
    "`safict` is not changed. Correct form is:"
   ],
   "metadata": {
    "collapsed": false,
    "pycharm": {
     "name": "#%% md\n"
    }
   }
  },
  {
   "cell_type": "code",
   "execution_count": 17,
   "outputs": [
    {
     "name": "stdout",
     "text": [
      "False\n"
     ],
     "output_type": "stream"
    }
   ],
   "source": [
    "safict = safict.set(\"brand\", \"new\", \"value\", value=\"hi!\")\n",
    "print(safict.get(\"brand\", \"new\", \"value\") is None)"
   ],
   "metadata": {
    "collapsed": false,
    "pycharm": {
     "name": "#%%\n",
     "is_executing": false
    }
   }
  },
  {
   "cell_type": "markdown",
   "source": [
    "Just like pandas API!\n",
    "\n",
    "\n",
    "Another way is to use `__getitem__`/`__setitem__`:"
   ],
   "metadata": {
    "collapsed": false,
    "pycharm": {
     "name": "#%% md\n"
    }
   }
  },
  {
   "cell_type": "code",
   "execution_count": 19,
   "outputs": [
    {
     "data": {
      "text/plain": "'reflect'"
     },
     "metadata": {},
     "output_type": "execute_result",
     "execution_count": 19
    }
   ],
   "source": [
    "print(safict[\"transforms\", 1, \"params\", \"padding_mode\"])\n",
    "\n",
    "safict[\"transforms\", 1, \"params\", \"padding_mode\"] = \"mirror\" # inplace\n",
    "\n",
    "print(safict[\"transforms\", 1, \"params\", \"padding_mode\"])"
   ],
   "metadata": {
    "collapsed": false,
    "pycharm": {
     "name": "#%%\n",
     "is_executing": false
    }
   }
  },
  {
   "cell_type": "markdown",
   "source": [
    "New cool feature is the Key separator:\n"
   ],
   "metadata": {
    "collapsed": false
   }
  },
  {
   "cell_type": "code",
   "execution_count": 7,
   "outputs": [
    {
     "name": "stdout",
     "text": [
      "array.len\n3\n3\n3\narray.value[0]\n2\n2\n2\n"
     ],
     "output_type": "stream"
    }
   ],
   "source": [
    "storage = dict(key=\"value\", array=dict(len=3, value=[1, 2, 3]))\n",
    "safict = Safict(storage, separator=\".\")\n",
    "\n",
    "print(\"array.len\")\n",
    "print(safict.get(\"array\", \"len\"))\n",
    "print(safict.get(\"array.len\"))\n",
    "print(safict[\"array.len\"])\n",
    "\n",
    "print(\"array.value[0]\")\n",
    "print(safict[\"array.value\", 1])\n",
    "print(safict.get(\"array\", \"value\", 1))\n",
    "print(safict.get(\"array.value\", 1))"
   ],
   "metadata": {
    "collapsed": false,
    "pycharm": {
     "name": "#%%\n",
     "is_executing": false
    }
   }
  },
  {
   "cell_type": "markdown",
   "source": [
    "Of course it works with `set`"
   ],
   "metadata": {
    "collapsed": false,
    "pycharm": {
     "name": "#%% md\n"
    }
   }
  },
  {
   "cell_type": "code",
   "execution_count": null,
   "outputs": [],
   "source": [
    "safict = safict.set(\"array.len\", value=-1)\n",
    "safict[\"array.len\"] = 0"
   ],
   "metadata": {
    "collapsed": false,
    "pycharm": {
     "name": "#%% \n"
    }
   }
  },
  {
   "cell_type": "markdown",
   "source": [
    "Save just like `safitty.save`"
   ],
   "metadata": {
    "collapsed": false,
    "pycharm": {
     "name": "#%% md\n"
    }
   }
  },
  {
   "cell_type": "code",
   "execution_count": null,
   "outputs": [],
   "source": [
    "safict.save(\"./output.json\")\n",
    "safict.save(\"./output.yml\")\n",
    "\n"
   ],
   "metadata": {
    "collapsed": false,
    "pycharm": {
     "name": "#%%\n"
    }
   }
  }
 ],
 "metadata": {
  "language_info": {
   "codemirror_mode": {
    "name": "ipython",
    "version": 2
   },
   "file_extension": ".py",
   "mimetype": "text/x-python",
   "name": "python",
   "nbconvert_exporter": "python",
   "pygments_lexer": "ipython2",
   "version": "2.7.6"
  },
  "kernelspec": {
   "name": "python3",
   "language": "python",
   "display_name": "Python 3"
  },
  "pycharm": {
   "stem_cell": {
    "cell_type": "raw",
    "source": [],
    "metadata": {
     "collapsed": false
    }
   }
  }
 },
 "nbformat": 4,
 "nbformat_minor": 0
}